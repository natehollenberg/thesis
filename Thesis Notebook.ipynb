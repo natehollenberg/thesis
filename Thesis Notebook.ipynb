{
 "cells": [
  {
   "cell_type": "markdown",
   "metadata": {},
   "source": [
    "IMPORT CORRECT PACKAGES"
   ]
  },
  {
   "cell_type": "code",
   "execution_count": 1,
   "metadata": {},
   "outputs": [
    {
     "name": "stderr",
     "output_type": "stream",
     "text": [
      "/Users/nathanhollenberg/anaconda/lib/python3.6/site-packages/statsmodels/compat/pandas.py:56: FutureWarning: The pandas.core.datetools module is deprecated and will be removed in a future version. Please use the pandas.tseries module instead.\n",
      "  from pandas.core import datetools\n",
      "/Users/nathanhollenberg/anaconda/lib/python3.6/site-packages/sklearn/ensemble/weight_boosting.py:29: DeprecationWarning: numpy.core.umath_tests is an internal NumPy module and should not be imported. It will be removed in a future NumPy release.\n",
      "  from numpy.core.umath_tests import inner1d\n"
     ]
    }
   ],
   "source": [
    "import pandas as pd\n",
    "import numpy as np\n",
    "import matplotlib.pyplot as plt\n",
    "from scipy.spatial import distance\n",
    "import statsmodels.api as sm\n",
    "from statsmodels.api import OLS\n",
    "\n",
    "from sklearn.ensemble import RandomForestClassifier\n",
    "from sklearn.model_selection import train_test_split\n",
    "from sklearn import metrics\n",
    "from sklearn.preprocessing import PolynomialFeatures\n",
    "from sklearn.preprocessing import StandardScaler\n",
    "from sklearn.linear_model import LinearRegression\n",
    "from sklearn.linear_model import LogisticRegression\n",
    "from sklearn.linear_model import Ridge\n",
    "from sklearn.linear_model import RidgeCV\n",
    "from sklearn.linear_model import LassoCV\n",
    "from sklearn.metrics import r2_score\n",
    "\n",
    "from pandas.plotting import scatter_matrix"
   ]
  },
  {
   "cell_type": "markdown",
   "metadata": {},
   "source": [
    "Load Data From Kirk"
   ]
  },
  {
   "cell_type": "code",
   "execution_count": 2,
   "metadata": {
    "collapsed": true
   },
   "outputs": [],
   "source": [
    "# load data\n",
    "data = pd.read_csv(\"kirk_data_1.csv\")"
   ]
  },
  {
   "cell_type": "code",
   "execution_count": 3,
   "metadata": {},
   "outputs": [
    {
     "data": {
      "text/plain": [
       "(1048575, 13)"
      ]
     },
     "execution_count": 3,
     "metadata": {},
     "output_type": "execute_result"
    }
   ],
   "source": [
    "# find shape of data\n",
    "data.shape"
   ]
  },
  {
   "cell_type": "code",
   "execution_count": 4,
   "metadata": {},
   "outputs": [
    {
     "data": {
      "text/html": [
       "<div>\n",
       "<style>\n",
       "    .dataframe thead tr:only-child th {\n",
       "        text-align: right;\n",
       "    }\n",
       "\n",
       "    .dataframe thead th {\n",
       "        text-align: left;\n",
       "    }\n",
       "\n",
       "    .dataframe tbody tr th {\n",
       "        vertical-align: top;\n",
       "    }\n",
       "</style>\n",
       "<table border=\"1\" class=\"dataframe\">\n",
       "  <thead>\n",
       "    <tr style=\"text-align: right;\">\n",
       "      <th></th>\n",
       "      <th>game_id</th>\n",
       "      <th>team_id</th>\n",
       "      <th>Team</th>\n",
       "      <th>player_id</th>\n",
       "      <th>Player</th>\n",
       "      <th>period</th>\n",
       "      <th>gc_time</th>\n",
       "      <th>X_loc</th>\n",
       "      <th>Y_loc</th>\n",
       "      <th>three</th>\n",
       "      <th>made</th>\n",
       "      <th>fouled</th>\n",
       "      <th>assist_opp</th>\n",
       "    </tr>\n",
       "  </thead>\n",
       "  <tbody>\n",
       "    <tr>\n",
       "      <th>306147</th>\n",
       "      <td>21700027</td>\n",
       "      <td>1610612761</td>\n",
       "      <td>Toronto</td>\n",
       "      <td>1627751</td>\n",
       "      <td>Jakob Poeltl</td>\n",
       "      <td>3</td>\n",
       "      <td>194.08</td>\n",
       "      <td>-38.86</td>\n",
       "      <td>-1.38</td>\n",
       "      <td>0</td>\n",
       "      <td>1</td>\n",
       "      <td>0</td>\n",
       "      <td>1</td>\n",
       "    </tr>\n",
       "    <tr>\n",
       "      <th>306151</th>\n",
       "      <td>21700046</td>\n",
       "      <td>1610612761</td>\n",
       "      <td>Toronto</td>\n",
       "      <td>1627751</td>\n",
       "      <td>Jakob Poeltl</td>\n",
       "      <td>1</td>\n",
       "      <td>220.76</td>\n",
       "      <td>-39.93</td>\n",
       "      <td>-4.92</td>\n",
       "      <td>0</td>\n",
       "      <td>1</td>\n",
       "      <td>0</td>\n",
       "      <td>1</td>\n",
       "    </tr>\n",
       "    <tr>\n",
       "      <th>306152</th>\n",
       "      <td>21700046</td>\n",
       "      <td>1610612761</td>\n",
       "      <td>Toronto</td>\n",
       "      <td>1627751</td>\n",
       "      <td>Jakob Poeltl</td>\n",
       "      <td>2</td>\n",
       "      <td>111.60</td>\n",
       "      <td>-39.55</td>\n",
       "      <td>-2.90</td>\n",
       "      <td>0</td>\n",
       "      <td>1</td>\n",
       "      <td>0</td>\n",
       "      <td>1</td>\n",
       "    </tr>\n",
       "    <tr>\n",
       "      <th>306154</th>\n",
       "      <td>21700046</td>\n",
       "      <td>1610612761</td>\n",
       "      <td>Toronto</td>\n",
       "      <td>1627751</td>\n",
       "      <td>Jakob Poeltl</td>\n",
       "      <td>4</td>\n",
       "      <td>617.68</td>\n",
       "      <td>-41.21</td>\n",
       "      <td>2.24</td>\n",
       "      <td>0</td>\n",
       "      <td>1</td>\n",
       "      <td>0</td>\n",
       "      <td>1</td>\n",
       "    </tr>\n",
       "    <tr>\n",
       "      <th>306159</th>\n",
       "      <td>21700063</td>\n",
       "      <td>1610612761</td>\n",
       "      <td>Toronto</td>\n",
       "      <td>1627751</td>\n",
       "      <td>Jakob Poeltl</td>\n",
       "      <td>1</td>\n",
       "      <td>97.80</td>\n",
       "      <td>-41.33</td>\n",
       "      <td>-0.84</td>\n",
       "      <td>0</td>\n",
       "      <td>1</td>\n",
       "      <td>0</td>\n",
       "      <td>1</td>\n",
       "    </tr>\n",
       "    <tr>\n",
       "      <th>306162</th>\n",
       "      <td>21700063</td>\n",
       "      <td>1610612761</td>\n",
       "      <td>Toronto</td>\n",
       "      <td>1627751</td>\n",
       "      <td>Jakob Poeltl</td>\n",
       "      <td>4</td>\n",
       "      <td>106.48</td>\n",
       "      <td>-41.07</td>\n",
       "      <td>2.74</td>\n",
       "      <td>0</td>\n",
       "      <td>0</td>\n",
       "      <td>0</td>\n",
       "      <td>1</td>\n",
       "    </tr>\n",
       "    <tr>\n",
       "      <th>307356</th>\n",
       "      <td>21700063</td>\n",
       "      <td>1610612761</td>\n",
       "      <td>Toronto</td>\n",
       "      <td>1627751</td>\n",
       "      <td>Jakob Poeltl</td>\n",
       "      <td>4</td>\n",
       "      <td>486.76</td>\n",
       "      <td>-43.15</td>\n",
       "      <td>-0.44</td>\n",
       "      <td>0</td>\n",
       "      <td>1</td>\n",
       "      <td>0</td>\n",
       "      <td>0</td>\n",
       "    </tr>\n",
       "    <tr>\n",
       "      <th>307363</th>\n",
       "      <td>21700076</td>\n",
       "      <td>1610612761</td>\n",
       "      <td>Toronto</td>\n",
       "      <td>1627751</td>\n",
       "      <td>Jakob Poeltl</td>\n",
       "      <td>2</td>\n",
       "      <td>555.76</td>\n",
       "      <td>-40.66</td>\n",
       "      <td>1.94</td>\n",
       "      <td>0</td>\n",
       "      <td>1</td>\n",
       "      <td>1</td>\n",
       "      <td>1</td>\n",
       "    </tr>\n",
       "    <tr>\n",
       "      <th>307364</th>\n",
       "      <td>21700076</td>\n",
       "      <td>1610612761</td>\n",
       "      <td>Toronto</td>\n",
       "      <td>1627751</td>\n",
       "      <td>Jakob Poeltl</td>\n",
       "      <td>2</td>\n",
       "      <td>499.32</td>\n",
       "      <td>-41.48</td>\n",
       "      <td>2.55</td>\n",
       "      <td>0</td>\n",
       "      <td>1</td>\n",
       "      <td>0</td>\n",
       "      <td>1</td>\n",
       "    </tr>\n",
       "    <tr>\n",
       "      <th>307367</th>\n",
       "      <td>21700099</td>\n",
       "      <td>1610612761</td>\n",
       "      <td>Toronto</td>\n",
       "      <td>1627751</td>\n",
       "      <td>Jakob Poeltl</td>\n",
       "      <td>1</td>\n",
       "      <td>225.24</td>\n",
       "      <td>-36.80</td>\n",
       "      <td>-5.15</td>\n",
       "      <td>0</td>\n",
       "      <td>0</td>\n",
       "      <td>0</td>\n",
       "      <td>1</td>\n",
       "    </tr>\n",
       "    <tr>\n",
       "      <th>307705</th>\n",
       "      <td>21700128</td>\n",
       "      <td>1610612761</td>\n",
       "      <td>Toronto</td>\n",
       "      <td>1627751</td>\n",
       "      <td>Jakob Poeltl</td>\n",
       "      <td>2</td>\n",
       "      <td>663.28</td>\n",
       "      <td>-41.16</td>\n",
       "      <td>-2.30</td>\n",
       "      <td>0</td>\n",
       "      <td>1</td>\n",
       "      <td>0</td>\n",
       "      <td>0</td>\n",
       "    </tr>\n",
       "    <tr>\n",
       "      <th>307717</th>\n",
       "      <td>21700027</td>\n",
       "      <td>1610612761</td>\n",
       "      <td>Toronto</td>\n",
       "      <td>1627751</td>\n",
       "      <td>Jakob Poeltl</td>\n",
       "      <td>1</td>\n",
       "      <td>223.68</td>\n",
       "      <td>-39.45</td>\n",
       "      <td>-1.14</td>\n",
       "      <td>0</td>\n",
       "      <td>1</td>\n",
       "      <td>0</td>\n",
       "      <td>0</td>\n",
       "    </tr>\n",
       "    <tr>\n",
       "      <th>307718</th>\n",
       "      <td>21700027</td>\n",
       "      <td>1610612761</td>\n",
       "      <td>Toronto</td>\n",
       "      <td>1627751</td>\n",
       "      <td>Jakob Poeltl</td>\n",
       "      <td>2</td>\n",
       "      <td>557.68</td>\n",
       "      <td>-41.05</td>\n",
       "      <td>-8.22</td>\n",
       "      <td>0</td>\n",
       "      <td>1</td>\n",
       "      <td>0</td>\n",
       "      <td>1</td>\n",
       "    </tr>\n",
       "    <tr>\n",
       "      <th>307719</th>\n",
       "      <td>21700027</td>\n",
       "      <td>1610612761</td>\n",
       "      <td>Toronto</td>\n",
       "      <td>1627751</td>\n",
       "      <td>Jakob Poeltl</td>\n",
       "      <td>3</td>\n",
       "      <td>224.04</td>\n",
       "      <td>-41.25</td>\n",
       "      <td>1.90</td>\n",
       "      <td>0</td>\n",
       "      <td>1</td>\n",
       "      <td>0</td>\n",
       "      <td>1</td>\n",
       "    </tr>\n",
       "    <tr>\n",
       "      <th>307720</th>\n",
       "      <td>21700027</td>\n",
       "      <td>1610612761</td>\n",
       "      <td>Toronto</td>\n",
       "      <td>1627751</td>\n",
       "      <td>Jakob Poeltl</td>\n",
       "      <td>4</td>\n",
       "      <td>641.08</td>\n",
       "      <td>-41.53</td>\n",
       "      <td>0.83</td>\n",
       "      <td>0</td>\n",
       "      <td>1</td>\n",
       "      <td>0</td>\n",
       "      <td>0</td>\n",
       "    </tr>\n",
       "    <tr>\n",
       "      <th>307730</th>\n",
       "      <td>21700153</td>\n",
       "      <td>1610612761</td>\n",
       "      <td>Toronto</td>\n",
       "      <td>1627751</td>\n",
       "      <td>Jakob Poeltl</td>\n",
       "      <td>2</td>\n",
       "      <td>530.56</td>\n",
       "      <td>-37.06</td>\n",
       "      <td>-1.88</td>\n",
       "      <td>0</td>\n",
       "      <td>1</td>\n",
       "      <td>0</td>\n",
       "      <td>1</td>\n",
       "    </tr>\n",
       "    <tr>\n",
       "      <th>307731</th>\n",
       "      <td>21700153</td>\n",
       "      <td>1610612761</td>\n",
       "      <td>Toronto</td>\n",
       "      <td>1627751</td>\n",
       "      <td>Jakob Poeltl</td>\n",
       "      <td>4</td>\n",
       "      <td>588.68</td>\n",
       "      <td>-34.68</td>\n",
       "      <td>2.28</td>\n",
       "      <td>0</td>\n",
       "      <td>1</td>\n",
       "      <td>0</td>\n",
       "      <td>0</td>\n",
       "    </tr>\n",
       "    <tr>\n",
       "      <th>307736</th>\n",
       "      <td>21700165</td>\n",
       "      <td>1610612761</td>\n",
       "      <td>Toronto</td>\n",
       "      <td>1627751</td>\n",
       "      <td>Jakob Poeltl</td>\n",
       "      <td>4</td>\n",
       "      <td>527.84</td>\n",
       "      <td>-38.49</td>\n",
       "      <td>-4.61</td>\n",
       "      <td>0</td>\n",
       "      <td>0</td>\n",
       "      <td>0</td>\n",
       "      <td>1</td>\n",
       "    </tr>\n",
       "    <tr>\n",
       "      <th>307740</th>\n",
       "      <td>21700046</td>\n",
       "      <td>1610612761</td>\n",
       "      <td>Toronto</td>\n",
       "      <td>1627751</td>\n",
       "      <td>Jakob Poeltl</td>\n",
       "      <td>2</td>\n",
       "      <td>328.04</td>\n",
       "      <td>-38.77</td>\n",
       "      <td>-1.43</td>\n",
       "      <td>0</td>\n",
       "      <td>0</td>\n",
       "      <td>0</td>\n",
       "      <td>1</td>\n",
       "    </tr>\n",
       "    <tr>\n",
       "      <th>307741</th>\n",
       "      <td>21700046</td>\n",
       "      <td>1610612761</td>\n",
       "      <td>Toronto</td>\n",
       "      <td>1627751</td>\n",
       "      <td>Jakob Poeltl</td>\n",
       "      <td>2</td>\n",
       "      <td>212.88</td>\n",
       "      <td>-39.91</td>\n",
       "      <td>-3.25</td>\n",
       "      <td>0</td>\n",
       "      <td>1</td>\n",
       "      <td>1</td>\n",
       "      <td>1</td>\n",
       "    </tr>\n",
       "    <tr>\n",
       "      <th>307745</th>\n",
       "      <td>21700063</td>\n",
       "      <td>1610612761</td>\n",
       "      <td>Toronto</td>\n",
       "      <td>1627751</td>\n",
       "      <td>Jakob Poeltl</td>\n",
       "      <td>2</td>\n",
       "      <td>474.68</td>\n",
       "      <td>-40.30</td>\n",
       "      <td>-1.27</td>\n",
       "      <td>0</td>\n",
       "      <td>1</td>\n",
       "      <td>0</td>\n",
       "      <td>0</td>\n",
       "    </tr>\n",
       "    <tr>\n",
       "      <th>307748</th>\n",
       "      <td>21700063</td>\n",
       "      <td>1610612761</td>\n",
       "      <td>Toronto</td>\n",
       "      <td>1627751</td>\n",
       "      <td>Jakob Poeltl</td>\n",
       "      <td>3</td>\n",
       "      <td>3.44</td>\n",
       "      <td>-42.75</td>\n",
       "      <td>1.41</td>\n",
       "      <td>0</td>\n",
       "      <td>0</td>\n",
       "      <td>0</td>\n",
       "      <td>0</td>\n",
       "    </tr>\n",
       "    <tr>\n",
       "      <th>307749</th>\n",
       "      <td>21700063</td>\n",
       "      <td>1610612761</td>\n",
       "      <td>Toronto</td>\n",
       "      <td>1627751</td>\n",
       "      <td>Jakob Poeltl</td>\n",
       "      <td>3</td>\n",
       "      <td>1.68</td>\n",
       "      <td>-41.75</td>\n",
       "      <td>2.54</td>\n",
       "      <td>0</td>\n",
       "      <td>0</td>\n",
       "      <td>0</td>\n",
       "      <td>0</td>\n",
       "    </tr>\n",
       "    <tr>\n",
       "      <th>307751</th>\n",
       "      <td>21700188</td>\n",
       "      <td>1610612761</td>\n",
       "      <td>Toronto</td>\n",
       "      <td>1627751</td>\n",
       "      <td>Jakob Poeltl</td>\n",
       "      <td>2</td>\n",
       "      <td>382.20</td>\n",
       "      <td>-43.14</td>\n",
       "      <td>0.07</td>\n",
       "      <td>0</td>\n",
       "      <td>1</td>\n",
       "      <td>0</td>\n",
       "      <td>0</td>\n",
       "    </tr>\n",
       "    <tr>\n",
       "      <th>307757</th>\n",
       "      <td>21700202</td>\n",
       "      <td>1610612761</td>\n",
       "      <td>Toronto</td>\n",
       "      <td>1627751</td>\n",
       "      <td>Jakob Poeltl</td>\n",
       "      <td>2</td>\n",
       "      <td>572.32</td>\n",
       "      <td>-39.28</td>\n",
       "      <td>-2.22</td>\n",
       "      <td>0</td>\n",
       "      <td>1</td>\n",
       "      <td>1</td>\n",
       "      <td>1</td>\n",
       "    </tr>\n",
       "    <tr>\n",
       "      <th>310102</th>\n",
       "      <td>21700027</td>\n",
       "      <td>1610612761</td>\n",
       "      <td>Toronto</td>\n",
       "      <td>1627751</td>\n",
       "      <td>Jakob Poeltl</td>\n",
       "      <td>3</td>\n",
       "      <td>117.20</td>\n",
       "      <td>-41.57</td>\n",
       "      <td>-2.02</td>\n",
       "      <td>0</td>\n",
       "      <td>0</td>\n",
       "      <td>0</td>\n",
       "      <td>1</td>\n",
       "    </tr>\n",
       "    <tr>\n",
       "      <th>310104</th>\n",
       "      <td>21700027</td>\n",
       "      <td>1610612761</td>\n",
       "      <td>Toronto</td>\n",
       "      <td>1627751</td>\n",
       "      <td>Jakob Poeltl</td>\n",
       "      <td>4</td>\n",
       "      <td>506.48</td>\n",
       "      <td>-40.27</td>\n",
       "      <td>-3.30</td>\n",
       "      <td>0</td>\n",
       "      <td>1</td>\n",
       "      <td>0</td>\n",
       "      <td>1</td>\n",
       "    </tr>\n",
       "    <tr>\n",
       "      <th>310116</th>\n",
       "      <td>21700076</td>\n",
       "      <td>1610612761</td>\n",
       "      <td>Toronto</td>\n",
       "      <td>1627751</td>\n",
       "      <td>Jakob Poeltl</td>\n",
       "      <td>1</td>\n",
       "      <td>215.32</td>\n",
       "      <td>-32.33</td>\n",
       "      <td>1.24</td>\n",
       "      <td>0</td>\n",
       "      <td>0</td>\n",
       "      <td>0</td>\n",
       "      <td>1</td>\n",
       "    </tr>\n",
       "    <tr>\n",
       "      <th>310117</th>\n",
       "      <td>21700076</td>\n",
       "      <td>1610612761</td>\n",
       "      <td>Toronto</td>\n",
       "      <td>1627751</td>\n",
       "      <td>Jakob Poeltl</td>\n",
       "      <td>3</td>\n",
       "      <td>210.28</td>\n",
       "      <td>-41.94</td>\n",
       "      <td>0.46</td>\n",
       "      <td>0</td>\n",
       "      <td>0</td>\n",
       "      <td>0</td>\n",
       "      <td>0</td>\n",
       "    </tr>\n",
       "    <tr>\n",
       "      <th>310118</th>\n",
       "      <td>21700076</td>\n",
       "      <td>1610612761</td>\n",
       "      <td>Toronto</td>\n",
       "      <td>1627751</td>\n",
       "      <td>Jakob Poeltl</td>\n",
       "      <td>4</td>\n",
       "      <td>664.24</td>\n",
       "      <td>-40.96</td>\n",
       "      <td>-2.66</td>\n",
       "      <td>0</td>\n",
       "      <td>1</td>\n",
       "      <td>0</td>\n",
       "      <td>1</td>\n",
       "    </tr>\n",
       "    <tr>\n",
       "      <th>...</th>\n",
       "      <td>...</td>\n",
       "      <td>...</td>\n",
       "      <td>...</td>\n",
       "      <td>...</td>\n",
       "      <td>...</td>\n",
       "      <td>...</td>\n",
       "      <td>...</td>\n",
       "      <td>...</td>\n",
       "      <td>...</td>\n",
       "      <td>...</td>\n",
       "      <td>...</td>\n",
       "      <td>...</td>\n",
       "      <td>...</td>\n",
       "    </tr>\n",
       "    <tr>\n",
       "      <th>375267</th>\n",
       "      <td>41800155</td>\n",
       "      <td>1610612759</td>\n",
       "      <td>San Antonio</td>\n",
       "      <td>1627751</td>\n",
       "      <td>Jakob Poeltl</td>\n",
       "      <td>2</td>\n",
       "      <td>98.60</td>\n",
       "      <td>-41.07</td>\n",
       "      <td>-3.98</td>\n",
       "      <td>0</td>\n",
       "      <td>1</td>\n",
       "      <td>0</td>\n",
       "      <td>1</td>\n",
       "    </tr>\n",
       "    <tr>\n",
       "      <th>375273</th>\n",
       "      <td>41800156</td>\n",
       "      <td>1610612759</td>\n",
       "      <td>San Antonio</td>\n",
       "      <td>1627751</td>\n",
       "      <td>Jakob Poeltl</td>\n",
       "      <td>2</td>\n",
       "      <td>603.84</td>\n",
       "      <td>-36.09</td>\n",
       "      <td>1.24</td>\n",
       "      <td>0</td>\n",
       "      <td>0</td>\n",
       "      <td>0</td>\n",
       "      <td>0</td>\n",
       "    </tr>\n",
       "    <tr>\n",
       "      <th>375988</th>\n",
       "      <td>41800157</td>\n",
       "      <td>1610612759</td>\n",
       "      <td>San Antonio</td>\n",
       "      <td>1627751</td>\n",
       "      <td>Jakob Poeltl</td>\n",
       "      <td>1</td>\n",
       "      <td>523.52</td>\n",
       "      <td>-41.14</td>\n",
       "      <td>-3.46</td>\n",
       "      <td>0</td>\n",
       "      <td>0</td>\n",
       "      <td>0</td>\n",
       "      <td>0</td>\n",
       "    </tr>\n",
       "    <tr>\n",
       "      <th>375995</th>\n",
       "      <td>41800157</td>\n",
       "      <td>1610612759</td>\n",
       "      <td>San Antonio</td>\n",
       "      <td>1627751</td>\n",
       "      <td>Jakob Poeltl</td>\n",
       "      <td>3</td>\n",
       "      <td>69.16</td>\n",
       "      <td>-40.50</td>\n",
       "      <td>-0.20</td>\n",
       "      <td>0</td>\n",
       "      <td>1</td>\n",
       "      <td>0</td>\n",
       "      <td>1</td>\n",
       "    </tr>\n",
       "    <tr>\n",
       "      <th>1038950</th>\n",
       "      <td>21600771</td>\n",
       "      <td>1610612761</td>\n",
       "      <td>Toronto</td>\n",
       "      <td>1627751</td>\n",
       "      <td>Jakob Poeltl</td>\n",
       "      <td>1</td>\n",
       "      <td>3.06</td>\n",
       "      <td>NaN</td>\n",
       "      <td>NaN</td>\n",
       "      <td>0</td>\n",
       "      <td>0</td>\n",
       "      <td>0</td>\n",
       "      <td>1</td>\n",
       "    </tr>\n",
       "    <tr>\n",
       "      <th>1039165</th>\n",
       "      <td>21600771</td>\n",
       "      <td>1610612761</td>\n",
       "      <td>Toronto</td>\n",
       "      <td>1627751</td>\n",
       "      <td>Jakob Poeltl</td>\n",
       "      <td>3</td>\n",
       "      <td>6.88</td>\n",
       "      <td>NaN</td>\n",
       "      <td>NaN</td>\n",
       "      <td>0</td>\n",
       "      <td>1</td>\n",
       "      <td>1</td>\n",
       "      <td>0</td>\n",
       "    </tr>\n",
       "    <tr>\n",
       "      <th>1039396</th>\n",
       "      <td>21600765</td>\n",
       "      <td>1610612761</td>\n",
       "      <td>Toronto</td>\n",
       "      <td>1627751</td>\n",
       "      <td>Jakob Poeltl</td>\n",
       "      <td>4</td>\n",
       "      <td>451.24</td>\n",
       "      <td>NaN</td>\n",
       "      <td>NaN</td>\n",
       "      <td>0</td>\n",
       "      <td>0</td>\n",
       "      <td>0</td>\n",
       "      <td>0</td>\n",
       "    </tr>\n",
       "    <tr>\n",
       "      <th>1039896</th>\n",
       "      <td>21600732</td>\n",
       "      <td>1610612761</td>\n",
       "      <td>Toronto</td>\n",
       "      <td>1627751</td>\n",
       "      <td>Jakob Poeltl</td>\n",
       "      <td>1</td>\n",
       "      <td>128.50</td>\n",
       "      <td>NaN</td>\n",
       "      <td>NaN</td>\n",
       "      <td>0</td>\n",
       "      <td>1</td>\n",
       "      <td>0</td>\n",
       "      <td>0</td>\n",
       "    </tr>\n",
       "    <tr>\n",
       "      <th>1039907</th>\n",
       "      <td>21600732</td>\n",
       "      <td>1610612761</td>\n",
       "      <td>Toronto</td>\n",
       "      <td>1627751</td>\n",
       "      <td>Jakob Poeltl</td>\n",
       "      <td>2</td>\n",
       "      <td>147.48</td>\n",
       "      <td>NaN</td>\n",
       "      <td>NaN</td>\n",
       "      <td>0</td>\n",
       "      <td>1</td>\n",
       "      <td>0</td>\n",
       "      <td>1</td>\n",
       "    </tr>\n",
       "    <tr>\n",
       "      <th>1041388</th>\n",
       "      <td>21600790</td>\n",
       "      <td>1610612761</td>\n",
       "      <td>Toronto</td>\n",
       "      <td>1627751</td>\n",
       "      <td>Jakob Poeltl</td>\n",
       "      <td>1</td>\n",
       "      <td>70.97</td>\n",
       "      <td>NaN</td>\n",
       "      <td>NaN</td>\n",
       "      <td>0</td>\n",
       "      <td>1</td>\n",
       "      <td>0</td>\n",
       "      <td>1</td>\n",
       "    </tr>\n",
       "    <tr>\n",
       "      <th>1041665</th>\n",
       "      <td>21600790</td>\n",
       "      <td>1610612761</td>\n",
       "      <td>Toronto</td>\n",
       "      <td>1627751</td>\n",
       "      <td>Jakob Poeltl</td>\n",
       "      <td>2</td>\n",
       "      <td>534.62</td>\n",
       "      <td>NaN</td>\n",
       "      <td>NaN</td>\n",
       "      <td>0</td>\n",
       "      <td>1</td>\n",
       "      <td>0</td>\n",
       "      <td>1</td>\n",
       "    </tr>\n",
       "    <tr>\n",
       "      <th>1045159</th>\n",
       "      <td>41600123</td>\n",
       "      <td>1610612761</td>\n",
       "      <td>Toronto</td>\n",
       "      <td>1627751</td>\n",
       "      <td>Jakob Poeltl</td>\n",
       "      <td>4</td>\n",
       "      <td>358.22</td>\n",
       "      <td>NaN</td>\n",
       "      <td>NaN</td>\n",
       "      <td>0</td>\n",
       "      <td>0</td>\n",
       "      <td>0</td>\n",
       "      <td>1</td>\n",
       "    </tr>\n",
       "    <tr>\n",
       "      <th>1045161</th>\n",
       "      <td>41600123</td>\n",
       "      <td>1610612761</td>\n",
       "      <td>Toronto</td>\n",
       "      <td>1627751</td>\n",
       "      <td>Jakob Poeltl</td>\n",
       "      <td>4</td>\n",
       "      <td>299.25</td>\n",
       "      <td>NaN</td>\n",
       "      <td>NaN</td>\n",
       "      <td>0</td>\n",
       "      <td>1</td>\n",
       "      <td>0</td>\n",
       "      <td>0</td>\n",
       "    </tr>\n",
       "    <tr>\n",
       "      <th>1045164</th>\n",
       "      <td>41600123</td>\n",
       "      <td>1610612761</td>\n",
       "      <td>Toronto</td>\n",
       "      <td>1627751</td>\n",
       "      <td>Jakob Poeltl</td>\n",
       "      <td>4</td>\n",
       "      <td>172.30</td>\n",
       "      <td>NaN</td>\n",
       "      <td>NaN</td>\n",
       "      <td>0</td>\n",
       "      <td>0</td>\n",
       "      <td>0</td>\n",
       "      <td>1</td>\n",
       "    </tr>\n",
       "    <tr>\n",
       "      <th>1045165</th>\n",
       "      <td>41600123</td>\n",
       "      <td>1610612761</td>\n",
       "      <td>Toronto</td>\n",
       "      <td>1627751</td>\n",
       "      <td>Jakob Poeltl</td>\n",
       "      <td>4</td>\n",
       "      <td>171.46</td>\n",
       "      <td>NaN</td>\n",
       "      <td>NaN</td>\n",
       "      <td>0</td>\n",
       "      <td>0</td>\n",
       "      <td>0</td>\n",
       "      <td>0</td>\n",
       "    </tr>\n",
       "    <tr>\n",
       "      <th>1045179</th>\n",
       "      <td>41600122</td>\n",
       "      <td>1610612761</td>\n",
       "      <td>Toronto</td>\n",
       "      <td>1627751</td>\n",
       "      <td>Jakob Poeltl</td>\n",
       "      <td>1</td>\n",
       "      <td>66.80</td>\n",
       "      <td>NaN</td>\n",
       "      <td>NaN</td>\n",
       "      <td>0</td>\n",
       "      <td>1</td>\n",
       "      <td>0</td>\n",
       "      <td>1</td>\n",
       "    </tr>\n",
       "    <tr>\n",
       "      <th>1045437</th>\n",
       "      <td>41600123</td>\n",
       "      <td>1610612761</td>\n",
       "      <td>Toronto</td>\n",
       "      <td>1627751</td>\n",
       "      <td>Jakob Poeltl</td>\n",
       "      <td>4</td>\n",
       "      <td>61.36</td>\n",
       "      <td>NaN</td>\n",
       "      <td>NaN</td>\n",
       "      <td>0</td>\n",
       "      <td>0</td>\n",
       "      <td>0</td>\n",
       "      <td>1</td>\n",
       "    </tr>\n",
       "    <tr>\n",
       "      <th>1045438</th>\n",
       "      <td>41600123</td>\n",
       "      <td>1610612761</td>\n",
       "      <td>Toronto</td>\n",
       "      <td>1627751</td>\n",
       "      <td>Jakob Poeltl</td>\n",
       "      <td>4</td>\n",
       "      <td>59.36</td>\n",
       "      <td>NaN</td>\n",
       "      <td>NaN</td>\n",
       "      <td>0</td>\n",
       "      <td>1</td>\n",
       "      <td>0</td>\n",
       "      <td>0</td>\n",
       "    </tr>\n",
       "    <tr>\n",
       "      <th>1046201</th>\n",
       "      <td>41600211</td>\n",
       "      <td>1610612761</td>\n",
       "      <td>Toronto</td>\n",
       "      <td>1627751</td>\n",
       "      <td>Jakob Poeltl</td>\n",
       "      <td>4</td>\n",
       "      <td>175.59</td>\n",
       "      <td>NaN</td>\n",
       "      <td>NaN</td>\n",
       "      <td>0</td>\n",
       "      <td>0</td>\n",
       "      <td>0</td>\n",
       "      <td>0</td>\n",
       "    </tr>\n",
       "    <tr>\n",
       "      <th>1046205</th>\n",
       "      <td>41600211</td>\n",
       "      <td>1610612761</td>\n",
       "      <td>Toronto</td>\n",
       "      <td>1627751</td>\n",
       "      <td>Jakob Poeltl</td>\n",
       "      <td>4</td>\n",
       "      <td>2.79</td>\n",
       "      <td>NaN</td>\n",
       "      <td>NaN</td>\n",
       "      <td>0</td>\n",
       "      <td>1</td>\n",
       "      <td>0</td>\n",
       "      <td>0</td>\n",
       "    </tr>\n",
       "    <tr>\n",
       "      <th>1046515</th>\n",
       "      <td>41600212</td>\n",
       "      <td>1610612761</td>\n",
       "      <td>Toronto</td>\n",
       "      <td>1627751</td>\n",
       "      <td>Jakob Poeltl</td>\n",
       "      <td>4</td>\n",
       "      <td>161.28</td>\n",
       "      <td>NaN</td>\n",
       "      <td>NaN</td>\n",
       "      <td>0</td>\n",
       "      <td>1</td>\n",
       "      <td>0</td>\n",
       "      <td>1</td>\n",
       "    </tr>\n",
       "    <tr>\n",
       "      <th>1046518</th>\n",
       "      <td>41600212</td>\n",
       "      <td>1610612761</td>\n",
       "      <td>Toronto</td>\n",
       "      <td>1627751</td>\n",
       "      <td>Jakob Poeltl</td>\n",
       "      <td>4</td>\n",
       "      <td>86.99</td>\n",
       "      <td>NaN</td>\n",
       "      <td>NaN</td>\n",
       "      <td>0</td>\n",
       "      <td>0</td>\n",
       "      <td>0</td>\n",
       "      <td>0</td>\n",
       "    </tr>\n",
       "    <tr>\n",
       "      <th>1047354</th>\n",
       "      <td>21601218</td>\n",
       "      <td>1610612761</td>\n",
       "      <td>Toronto</td>\n",
       "      <td>1627751</td>\n",
       "      <td>Jakob Poeltl</td>\n",
       "      <td>3</td>\n",
       "      <td>247.42</td>\n",
       "      <td>NaN</td>\n",
       "      <td>NaN</td>\n",
       "      <td>0</td>\n",
       "      <td>1</td>\n",
       "      <td>0</td>\n",
       "      <td>0</td>\n",
       "    </tr>\n",
       "    <tr>\n",
       "      <th>1047645</th>\n",
       "      <td>21601218</td>\n",
       "      <td>1610612761</td>\n",
       "      <td>Toronto</td>\n",
       "      <td>1627751</td>\n",
       "      <td>Jakob Poeltl</td>\n",
       "      <td>2</td>\n",
       "      <td>643.85</td>\n",
       "      <td>NaN</td>\n",
       "      <td>NaN</td>\n",
       "      <td>0</td>\n",
       "      <td>1</td>\n",
       "      <td>0</td>\n",
       "      <td>0</td>\n",
       "    </tr>\n",
       "    <tr>\n",
       "      <th>1047654</th>\n",
       "      <td>21601218</td>\n",
       "      <td>1610612761</td>\n",
       "      <td>Toronto</td>\n",
       "      <td>1627751</td>\n",
       "      <td>Jakob Poeltl</td>\n",
       "      <td>3</td>\n",
       "      <td>421.67</td>\n",
       "      <td>NaN</td>\n",
       "      <td>NaN</td>\n",
       "      <td>0</td>\n",
       "      <td>1</td>\n",
       "      <td>0</td>\n",
       "      <td>1</td>\n",
       "    </tr>\n",
       "    <tr>\n",
       "      <th>1047918</th>\n",
       "      <td>21601196</td>\n",
       "      <td>1610612761</td>\n",
       "      <td>Toronto</td>\n",
       "      <td>1627751</td>\n",
       "      <td>Jakob Poeltl</td>\n",
       "      <td>4</td>\n",
       "      <td>29.46</td>\n",
       "      <td>NaN</td>\n",
       "      <td>NaN</td>\n",
       "      <td>0</td>\n",
       "      <td>1</td>\n",
       "      <td>0</td>\n",
       "      <td>0</td>\n",
       "    </tr>\n",
       "    <tr>\n",
       "      <th>1047939</th>\n",
       "      <td>21601196</td>\n",
       "      <td>1610612761</td>\n",
       "      <td>Toronto</td>\n",
       "      <td>1627751</td>\n",
       "      <td>Jakob Poeltl</td>\n",
       "      <td>4</td>\n",
       "      <td>705.80</td>\n",
       "      <td>NaN</td>\n",
       "      <td>NaN</td>\n",
       "      <td>0</td>\n",
       "      <td>1</td>\n",
       "      <td>0</td>\n",
       "      <td>1</td>\n",
       "    </tr>\n",
       "    <tr>\n",
       "      <th>1047940</th>\n",
       "      <td>21601196</td>\n",
       "      <td>1610612761</td>\n",
       "      <td>Toronto</td>\n",
       "      <td>1627751</td>\n",
       "      <td>Jakob Poeltl</td>\n",
       "      <td>4</td>\n",
       "      <td>542.27</td>\n",
       "      <td>NaN</td>\n",
       "      <td>NaN</td>\n",
       "      <td>0</td>\n",
       "      <td>1</td>\n",
       "      <td>0</td>\n",
       "      <td>0</td>\n",
       "    </tr>\n",
       "    <tr>\n",
       "      <th>1048130</th>\n",
       "      <td>21601196</td>\n",
       "      <td>1610612761</td>\n",
       "      <td>Toronto</td>\n",
       "      <td>1627751</td>\n",
       "      <td>Jakob Poeltl</td>\n",
       "      <td>4</td>\n",
       "      <td>306.15</td>\n",
       "      <td>NaN</td>\n",
       "      <td>NaN</td>\n",
       "      <td>0</td>\n",
       "      <td>1</td>\n",
       "      <td>0</td>\n",
       "      <td>1</td>\n",
       "    </tr>\n",
       "    <tr>\n",
       "      <th>1048447</th>\n",
       "      <td>21601166</td>\n",
       "      <td>1610612761</td>\n",
       "      <td>Toronto</td>\n",
       "      <td>1627751</td>\n",
       "      <td>Jakob Poeltl</td>\n",
       "      <td>3</td>\n",
       "      <td>497.38</td>\n",
       "      <td>NaN</td>\n",
       "      <td>NaN</td>\n",
       "      <td>0</td>\n",
       "      <td>1</td>\n",
       "      <td>0</td>\n",
       "      <td>1</td>\n",
       "    </tr>\n",
       "  </tbody>\n",
       "</table>\n",
       "<p>766 rows × 13 columns</p>\n",
       "</div>"
      ],
      "text/plain": [
       "          game_id     team_id         Team  player_id        Player  period  \\\n",
       "306147   21700027  1610612761      Toronto    1627751  Jakob Poeltl       3   \n",
       "306151   21700046  1610612761      Toronto    1627751  Jakob Poeltl       1   \n",
       "306152   21700046  1610612761      Toronto    1627751  Jakob Poeltl       2   \n",
       "306154   21700046  1610612761      Toronto    1627751  Jakob Poeltl       4   \n",
       "306159   21700063  1610612761      Toronto    1627751  Jakob Poeltl       1   \n",
       "306162   21700063  1610612761      Toronto    1627751  Jakob Poeltl       4   \n",
       "307356   21700063  1610612761      Toronto    1627751  Jakob Poeltl       4   \n",
       "307363   21700076  1610612761      Toronto    1627751  Jakob Poeltl       2   \n",
       "307364   21700076  1610612761      Toronto    1627751  Jakob Poeltl       2   \n",
       "307367   21700099  1610612761      Toronto    1627751  Jakob Poeltl       1   \n",
       "307705   21700128  1610612761      Toronto    1627751  Jakob Poeltl       2   \n",
       "307717   21700027  1610612761      Toronto    1627751  Jakob Poeltl       1   \n",
       "307718   21700027  1610612761      Toronto    1627751  Jakob Poeltl       2   \n",
       "307719   21700027  1610612761      Toronto    1627751  Jakob Poeltl       3   \n",
       "307720   21700027  1610612761      Toronto    1627751  Jakob Poeltl       4   \n",
       "307730   21700153  1610612761      Toronto    1627751  Jakob Poeltl       2   \n",
       "307731   21700153  1610612761      Toronto    1627751  Jakob Poeltl       4   \n",
       "307736   21700165  1610612761      Toronto    1627751  Jakob Poeltl       4   \n",
       "307740   21700046  1610612761      Toronto    1627751  Jakob Poeltl       2   \n",
       "307741   21700046  1610612761      Toronto    1627751  Jakob Poeltl       2   \n",
       "307745   21700063  1610612761      Toronto    1627751  Jakob Poeltl       2   \n",
       "307748   21700063  1610612761      Toronto    1627751  Jakob Poeltl       3   \n",
       "307749   21700063  1610612761      Toronto    1627751  Jakob Poeltl       3   \n",
       "307751   21700188  1610612761      Toronto    1627751  Jakob Poeltl       2   \n",
       "307757   21700202  1610612761      Toronto    1627751  Jakob Poeltl       2   \n",
       "310102   21700027  1610612761      Toronto    1627751  Jakob Poeltl       3   \n",
       "310104   21700027  1610612761      Toronto    1627751  Jakob Poeltl       4   \n",
       "310116   21700076  1610612761      Toronto    1627751  Jakob Poeltl       1   \n",
       "310117   21700076  1610612761      Toronto    1627751  Jakob Poeltl       3   \n",
       "310118   21700076  1610612761      Toronto    1627751  Jakob Poeltl       4   \n",
       "...           ...         ...          ...        ...           ...     ...   \n",
       "375267   41800155  1610612759  San Antonio    1627751  Jakob Poeltl       2   \n",
       "375273   41800156  1610612759  San Antonio    1627751  Jakob Poeltl       2   \n",
       "375988   41800157  1610612759  San Antonio    1627751  Jakob Poeltl       1   \n",
       "375995   41800157  1610612759  San Antonio    1627751  Jakob Poeltl       3   \n",
       "1038950  21600771  1610612761      Toronto    1627751  Jakob Poeltl       1   \n",
       "1039165  21600771  1610612761      Toronto    1627751  Jakob Poeltl       3   \n",
       "1039396  21600765  1610612761      Toronto    1627751  Jakob Poeltl       4   \n",
       "1039896  21600732  1610612761      Toronto    1627751  Jakob Poeltl       1   \n",
       "1039907  21600732  1610612761      Toronto    1627751  Jakob Poeltl       2   \n",
       "1041388  21600790  1610612761      Toronto    1627751  Jakob Poeltl       1   \n",
       "1041665  21600790  1610612761      Toronto    1627751  Jakob Poeltl       2   \n",
       "1045159  41600123  1610612761      Toronto    1627751  Jakob Poeltl       4   \n",
       "1045161  41600123  1610612761      Toronto    1627751  Jakob Poeltl       4   \n",
       "1045164  41600123  1610612761      Toronto    1627751  Jakob Poeltl       4   \n",
       "1045165  41600123  1610612761      Toronto    1627751  Jakob Poeltl       4   \n",
       "1045179  41600122  1610612761      Toronto    1627751  Jakob Poeltl       1   \n",
       "1045437  41600123  1610612761      Toronto    1627751  Jakob Poeltl       4   \n",
       "1045438  41600123  1610612761      Toronto    1627751  Jakob Poeltl       4   \n",
       "1046201  41600211  1610612761      Toronto    1627751  Jakob Poeltl       4   \n",
       "1046205  41600211  1610612761      Toronto    1627751  Jakob Poeltl       4   \n",
       "1046515  41600212  1610612761      Toronto    1627751  Jakob Poeltl       4   \n",
       "1046518  41600212  1610612761      Toronto    1627751  Jakob Poeltl       4   \n",
       "1047354  21601218  1610612761      Toronto    1627751  Jakob Poeltl       3   \n",
       "1047645  21601218  1610612761      Toronto    1627751  Jakob Poeltl       2   \n",
       "1047654  21601218  1610612761      Toronto    1627751  Jakob Poeltl       3   \n",
       "1047918  21601196  1610612761      Toronto    1627751  Jakob Poeltl       4   \n",
       "1047939  21601196  1610612761      Toronto    1627751  Jakob Poeltl       4   \n",
       "1047940  21601196  1610612761      Toronto    1627751  Jakob Poeltl       4   \n",
       "1048130  21601196  1610612761      Toronto    1627751  Jakob Poeltl       4   \n",
       "1048447  21601166  1610612761      Toronto    1627751  Jakob Poeltl       3   \n",
       "\n",
       "         gc_time  X_loc  Y_loc  three  made  fouled  assist_opp  \n",
       "306147    194.08 -38.86  -1.38      0     1       0           1  \n",
       "306151    220.76 -39.93  -4.92      0     1       0           1  \n",
       "306152    111.60 -39.55  -2.90      0     1       0           1  \n",
       "306154    617.68 -41.21   2.24      0     1       0           1  \n",
       "306159     97.80 -41.33  -0.84      0     1       0           1  \n",
       "306162    106.48 -41.07   2.74      0     0       0           1  \n",
       "307356    486.76 -43.15  -0.44      0     1       0           0  \n",
       "307363    555.76 -40.66   1.94      0     1       1           1  \n",
       "307364    499.32 -41.48   2.55      0     1       0           1  \n",
       "307367    225.24 -36.80  -5.15      0     0       0           1  \n",
       "307705    663.28 -41.16  -2.30      0     1       0           0  \n",
       "307717    223.68 -39.45  -1.14      0     1       0           0  \n",
       "307718    557.68 -41.05  -8.22      0     1       0           1  \n",
       "307719    224.04 -41.25   1.90      0     1       0           1  \n",
       "307720    641.08 -41.53   0.83      0     1       0           0  \n",
       "307730    530.56 -37.06  -1.88      0     1       0           1  \n",
       "307731    588.68 -34.68   2.28      0     1       0           0  \n",
       "307736    527.84 -38.49  -4.61      0     0       0           1  \n",
       "307740    328.04 -38.77  -1.43      0     0       0           1  \n",
       "307741    212.88 -39.91  -3.25      0     1       1           1  \n",
       "307745    474.68 -40.30  -1.27      0     1       0           0  \n",
       "307748      3.44 -42.75   1.41      0     0       0           0  \n",
       "307749      1.68 -41.75   2.54      0     0       0           0  \n",
       "307751    382.20 -43.14   0.07      0     1       0           0  \n",
       "307757    572.32 -39.28  -2.22      0     1       1           1  \n",
       "310102    117.20 -41.57  -2.02      0     0       0           1  \n",
       "310104    506.48 -40.27  -3.30      0     1       0           1  \n",
       "310116    215.32 -32.33   1.24      0     0       0           1  \n",
       "310117    210.28 -41.94   0.46      0     0       0           0  \n",
       "310118    664.24 -40.96  -2.66      0     1       0           1  \n",
       "...          ...    ...    ...    ...   ...     ...         ...  \n",
       "375267     98.60 -41.07  -3.98      0     1       0           1  \n",
       "375273    603.84 -36.09   1.24      0     0       0           0  \n",
       "375988    523.52 -41.14  -3.46      0     0       0           0  \n",
       "375995     69.16 -40.50  -0.20      0     1       0           1  \n",
       "1038950     3.06    NaN    NaN      0     0       0           1  \n",
       "1039165     6.88    NaN    NaN      0     1       1           0  \n",
       "1039396   451.24    NaN    NaN      0     0       0           0  \n",
       "1039896   128.50    NaN    NaN      0     1       0           0  \n",
       "1039907   147.48    NaN    NaN      0     1       0           1  \n",
       "1041388    70.97    NaN    NaN      0     1       0           1  \n",
       "1041665   534.62    NaN    NaN      0     1       0           1  \n",
       "1045159   358.22    NaN    NaN      0     0       0           1  \n",
       "1045161   299.25    NaN    NaN      0     1       0           0  \n",
       "1045164   172.30    NaN    NaN      0     0       0           1  \n",
       "1045165   171.46    NaN    NaN      0     0       0           0  \n",
       "1045179    66.80    NaN    NaN      0     1       0           1  \n",
       "1045437    61.36    NaN    NaN      0     0       0           1  \n",
       "1045438    59.36    NaN    NaN      0     1       0           0  \n",
       "1046201   175.59    NaN    NaN      0     0       0           0  \n",
       "1046205     2.79    NaN    NaN      0     1       0           0  \n",
       "1046515   161.28    NaN    NaN      0     1       0           1  \n",
       "1046518    86.99    NaN    NaN      0     0       0           0  \n",
       "1047354   247.42    NaN    NaN      0     1       0           0  \n",
       "1047645   643.85    NaN    NaN      0     1       0           0  \n",
       "1047654   421.67    NaN    NaN      0     1       0           1  \n",
       "1047918    29.46    NaN    NaN      0     1       0           0  \n",
       "1047939   705.80    NaN    NaN      0     1       0           1  \n",
       "1047940   542.27    NaN    NaN      0     1       0           0  \n",
       "1048130   306.15    NaN    NaN      0     1       0           1  \n",
       "1048447   497.38    NaN    NaN      0     1       0           1  \n",
       "\n",
       "[766 rows x 13 columns]"
      ]
     },
     "execution_count": 4,
     "metadata": {},
     "output_type": "execute_result"
    }
   ],
   "source": [
    "data[data['player_id'] == 1627751]"
   ]
  },
  {
   "cell_type": "markdown",
   "metadata": {},
   "source": [
    "Drop the previous years data that does not have X, Y Location"
   ]
  },
  {
   "cell_type": "code",
   "execution_count": 5,
   "metadata": {
    "collapsed": true
   },
   "outputs": [],
   "source": [
    "# just get data with shots\n",
    "data = data.dropna(subset=['X_loc', 'Y_loc'])"
   ]
  },
  {
   "cell_type": "code",
   "execution_count": 6,
   "metadata": {},
   "outputs": [
    {
     "data": {
      "text/plain": [
       "(456395, 13)"
      ]
     },
     "execution_count": 6,
     "metadata": {},
     "output_type": "execute_result"
    }
   ],
   "source": [
    "# find new shape\n",
    "data.shape"
   ]
  },
  {
   "cell_type": "markdown",
   "metadata": {},
   "source": [
    "Create new features from the coordinates (Distance and Angle)"
   ]
  },
  {
   "cell_type": "code",
   "execution_count": 7,
   "metadata": {
    "collapsed": true
   },
   "outputs": [],
   "source": [
    "# create point\n",
    "data['Point'] = list(zip(data.X_loc, data.Y_loc))"
   ]
  },
  {
   "cell_type": "code",
   "execution_count": 8,
   "metadata": {
    "collapsed": true
   },
   "outputs": [],
   "source": [
    "#initialize hoop\n",
    "hoop = (-41.75, 0)"
   ]
  },
  {
   "cell_type": "code",
   "execution_count": 9,
   "metadata": {
    "collapsed": true
   },
   "outputs": [],
   "source": [
    "data['Distance'] = data['Point'].apply(lambda x: distance.euclidean(x, hoop))"
   ]
  },
  {
   "cell_type": "code",
   "execution_count": 10,
   "metadata": {
    "collapsed": true
   },
   "outputs": [],
   "source": [
    "data = data.drop(['Point'], axis = 1)"
   ]
  },
  {
   "cell_type": "code",
   "execution_count": 11,
   "metadata": {},
   "outputs": [
    {
     "data": {
      "text/html": [
       "<div>\n",
       "<style>\n",
       "    .dataframe thead tr:only-child th {\n",
       "        text-align: right;\n",
       "    }\n",
       "\n",
       "    .dataframe thead th {\n",
       "        text-align: left;\n",
       "    }\n",
       "\n",
       "    .dataframe tbody tr th {\n",
       "        vertical-align: top;\n",
       "    }\n",
       "</style>\n",
       "<table border=\"1\" class=\"dataframe\">\n",
       "  <thead>\n",
       "    <tr style=\"text-align: right;\">\n",
       "      <th></th>\n",
       "      <th>game_id</th>\n",
       "      <th>team_id</th>\n",
       "      <th>Team</th>\n",
       "      <th>player_id</th>\n",
       "      <th>Player</th>\n",
       "      <th>period</th>\n",
       "      <th>gc_time</th>\n",
       "      <th>X_loc</th>\n",
       "      <th>Y_loc</th>\n",
       "      <th>three</th>\n",
       "      <th>made</th>\n",
       "      <th>fouled</th>\n",
       "      <th>assist_opp</th>\n",
       "      <th>Distance</th>\n",
       "    </tr>\n",
       "  </thead>\n",
       "  <tbody>\n",
       "    <tr>\n",
       "      <th>0</th>\n",
       "      <td>21700031</td>\n",
       "      <td>1610612759</td>\n",
       "      <td>San Antonio</td>\n",
       "      <td>200746</td>\n",
       "      <td>LaMarcus Aldridge</td>\n",
       "      <td>2</td>\n",
       "      <td>416.40</td>\n",
       "      <td>-17.68</td>\n",
       "      <td>6.22</td>\n",
       "      <td>1</td>\n",
       "      <td>0</td>\n",
       "      <td>0</td>\n",
       "      <td>1</td>\n",
       "      <td>24.860678</td>\n",
       "    </tr>\n",
       "    <tr>\n",
       "      <th>1</th>\n",
       "      <td>21700031</td>\n",
       "      <td>1610612759</td>\n",
       "      <td>San Antonio</td>\n",
       "      <td>200746</td>\n",
       "      <td>LaMarcus Aldridge</td>\n",
       "      <td>2</td>\n",
       "      <td>226.08</td>\n",
       "      <td>-39.82</td>\n",
       "      <td>-0.22</td>\n",
       "      <td>0</td>\n",
       "      <td>0</td>\n",
       "      <td>0</td>\n",
       "      <td>1</td>\n",
       "      <td>1.942498</td>\n",
       "    </tr>\n",
       "    <tr>\n",
       "      <th>2</th>\n",
       "      <td>21700031</td>\n",
       "      <td>1610612759</td>\n",
       "      <td>San Antonio</td>\n",
       "      <td>200746</td>\n",
       "      <td>LaMarcus Aldridge</td>\n",
       "      <td>2</td>\n",
       "      <td>181.88</td>\n",
       "      <td>-28.46</td>\n",
       "      <td>9.57</td>\n",
       "      <td>0</td>\n",
       "      <td>1</td>\n",
       "      <td>0</td>\n",
       "      <td>1</td>\n",
       "      <td>16.377088</td>\n",
       "    </tr>\n",
       "    <tr>\n",
       "      <th>3</th>\n",
       "      <td>21700031</td>\n",
       "      <td>1610612759</td>\n",
       "      <td>San Antonio</td>\n",
       "      <td>200746</td>\n",
       "      <td>LaMarcus Aldridge</td>\n",
       "      <td>3</td>\n",
       "      <td>573.04</td>\n",
       "      <td>-40.36</td>\n",
       "      <td>13.95</td>\n",
       "      <td>0</td>\n",
       "      <td>0</td>\n",
       "      <td>0</td>\n",
       "      <td>0</td>\n",
       "      <td>14.019080</td>\n",
       "    </tr>\n",
       "    <tr>\n",
       "      <th>4</th>\n",
       "      <td>21700046</td>\n",
       "      <td>1610612759</td>\n",
       "      <td>San Antonio</td>\n",
       "      <td>1938</td>\n",
       "      <td>Manu Ginobili</td>\n",
       "      <td>1</td>\n",
       "      <td>203.64</td>\n",
       "      <td>-19.51</td>\n",
       "      <td>-10.09</td>\n",
       "      <td>1</td>\n",
       "      <td>1</td>\n",
       "      <td>0</td>\n",
       "      <td>1</td>\n",
       "      <td>24.421828</td>\n",
       "    </tr>\n",
       "  </tbody>\n",
       "</table>\n",
       "</div>"
      ],
      "text/plain": [
       "    game_id     team_id         Team  player_id             Player  period  \\\n",
       "0  21700031  1610612759  San Antonio     200746  LaMarcus Aldridge       2   \n",
       "1  21700031  1610612759  San Antonio     200746  LaMarcus Aldridge       2   \n",
       "2  21700031  1610612759  San Antonio     200746  LaMarcus Aldridge       2   \n",
       "3  21700031  1610612759  San Antonio     200746  LaMarcus Aldridge       3   \n",
       "4  21700046  1610612759  San Antonio       1938      Manu Ginobili       1   \n",
       "\n",
       "   gc_time  X_loc  Y_loc  three  made  fouled  assist_opp   Distance  \n",
       "0   416.40 -17.68   6.22      1     0       0           1  24.860678  \n",
       "1   226.08 -39.82  -0.22      0     0       0           1   1.942498  \n",
       "2   181.88 -28.46   9.57      0     1       0           1  16.377088  \n",
       "3   573.04 -40.36  13.95      0     0       0           0  14.019080  \n",
       "4   203.64 -19.51 -10.09      1     1       0           1  24.421828  "
      ]
     },
     "execution_count": 11,
     "metadata": {},
     "output_type": "execute_result"
    }
   ],
   "source": [
    "data.head()"
   ]
  },
  {
   "cell_type": "markdown",
   "metadata": {},
   "source": [
    "Take absolute value of angle, to make them the same --> Angle and the side of the court (assymetric relationship)"
   ]
  },
  {
   "cell_type": "code",
   "execution_count": 12,
   "metadata": {
    "collapsed": true
   },
   "outputs": [],
   "source": [
    "# fix indexing issue\n",
    "data = data.reset_index()\n",
    "data = data.drop('index', axis = 1)"
   ]
  },
  {
   "cell_type": "markdown",
   "metadata": {},
   "source": [
    "## Create Angles"
   ]
  },
  {
   "cell_type": "code",
   "execution_count": 13,
   "metadata": {
    "collapsed": true
   },
   "outputs": [],
   "source": [
    "import math\n",
    "angles = []\n",
    "rightside = []\n",
    "for i in range(len(data)):\n",
    "    angle = math.atan2(data['Y_loc'][i] - hoop[1], data['X_loc'][i] - hoop[0])\n",
    "    if angle <= 0:\n",
    "        rightside.append(1)\n",
    "    else:\n",
    "        rightside.append(0)\n",
    "    angle_real = abs(angle * (180/math.pi))\n",
    "    angles.append(angle_real)"
   ]
  },
  {
   "cell_type": "code",
   "execution_count": 14,
   "metadata": {
    "collapsed": true
   },
   "outputs": [],
   "source": [
    "data['angle'] = angles\n",
    "data['rightside'] = rightside"
   ]
  },
  {
   "cell_type": "code",
   "execution_count": 15,
   "metadata": {},
   "outputs": [
    {
     "data": {
      "text/html": [
       "<div>\n",
       "<style>\n",
       "    .dataframe thead tr:only-child th {\n",
       "        text-align: right;\n",
       "    }\n",
       "\n",
       "    .dataframe thead th {\n",
       "        text-align: left;\n",
       "    }\n",
       "\n",
       "    .dataframe tbody tr th {\n",
       "        vertical-align: top;\n",
       "    }\n",
       "</style>\n",
       "<table border=\"1\" class=\"dataframe\">\n",
       "  <thead>\n",
       "    <tr style=\"text-align: right;\">\n",
       "      <th></th>\n",
       "      <th>game_id</th>\n",
       "      <th>team_id</th>\n",
       "      <th>Team</th>\n",
       "      <th>player_id</th>\n",
       "      <th>Player</th>\n",
       "      <th>period</th>\n",
       "      <th>gc_time</th>\n",
       "      <th>X_loc</th>\n",
       "      <th>Y_loc</th>\n",
       "      <th>three</th>\n",
       "      <th>made</th>\n",
       "      <th>fouled</th>\n",
       "      <th>assist_opp</th>\n",
       "      <th>Distance</th>\n",
       "      <th>angle</th>\n",
       "      <th>rightside</th>\n",
       "    </tr>\n",
       "  </thead>\n",
       "  <tbody>\n",
       "    <tr>\n",
       "      <th>0</th>\n",
       "      <td>21700031</td>\n",
       "      <td>1610612759</td>\n",
       "      <td>San Antonio</td>\n",
       "      <td>200746</td>\n",
       "      <td>LaMarcus Aldridge</td>\n",
       "      <td>2</td>\n",
       "      <td>416.40</td>\n",
       "      <td>-17.68</td>\n",
       "      <td>6.22</td>\n",
       "      <td>1</td>\n",
       "      <td>0</td>\n",
       "      <td>0</td>\n",
       "      <td>1</td>\n",
       "      <td>24.860678</td>\n",
       "      <td>14.489010</td>\n",
       "      <td>0</td>\n",
       "    </tr>\n",
       "    <tr>\n",
       "      <th>1</th>\n",
       "      <td>21700031</td>\n",
       "      <td>1610612759</td>\n",
       "      <td>San Antonio</td>\n",
       "      <td>200746</td>\n",
       "      <td>LaMarcus Aldridge</td>\n",
       "      <td>2</td>\n",
       "      <td>226.08</td>\n",
       "      <td>-39.82</td>\n",
       "      <td>-0.22</td>\n",
       "      <td>0</td>\n",
       "      <td>0</td>\n",
       "      <td>0</td>\n",
       "      <td>1</td>\n",
       "      <td>1.942498</td>\n",
       "      <td>6.503056</td>\n",
       "      <td>1</td>\n",
       "    </tr>\n",
       "    <tr>\n",
       "      <th>2</th>\n",
       "      <td>21700031</td>\n",
       "      <td>1610612759</td>\n",
       "      <td>San Antonio</td>\n",
       "      <td>200746</td>\n",
       "      <td>LaMarcus Aldridge</td>\n",
       "      <td>2</td>\n",
       "      <td>181.88</td>\n",
       "      <td>-28.46</td>\n",
       "      <td>9.57</td>\n",
       "      <td>0</td>\n",
       "      <td>1</td>\n",
       "      <td>0</td>\n",
       "      <td>1</td>\n",
       "      <td>16.377088</td>\n",
       "      <td>35.757294</td>\n",
       "      <td>0</td>\n",
       "    </tr>\n",
       "    <tr>\n",
       "      <th>3</th>\n",
       "      <td>21700031</td>\n",
       "      <td>1610612759</td>\n",
       "      <td>San Antonio</td>\n",
       "      <td>200746</td>\n",
       "      <td>LaMarcus Aldridge</td>\n",
       "      <td>3</td>\n",
       "      <td>573.04</td>\n",
       "      <td>-40.36</td>\n",
       "      <td>13.95</td>\n",
       "      <td>0</td>\n",
       "      <td>0</td>\n",
       "      <td>0</td>\n",
       "      <td>0</td>\n",
       "      <td>14.019080</td>\n",
       "      <td>84.309740</td>\n",
       "      <td>0</td>\n",
       "    </tr>\n",
       "    <tr>\n",
       "      <th>4</th>\n",
       "      <td>21700046</td>\n",
       "      <td>1610612759</td>\n",
       "      <td>San Antonio</td>\n",
       "      <td>1938</td>\n",
       "      <td>Manu Ginobili</td>\n",
       "      <td>1</td>\n",
       "      <td>203.64</td>\n",
       "      <td>-19.51</td>\n",
       "      <td>-10.09</td>\n",
       "      <td>1</td>\n",
       "      <td>1</td>\n",
       "      <td>0</td>\n",
       "      <td>1</td>\n",
       "      <td>24.421828</td>\n",
       "      <td>24.403180</td>\n",
       "      <td>1</td>\n",
       "    </tr>\n",
       "  </tbody>\n",
       "</table>\n",
       "</div>"
      ],
      "text/plain": [
       "    game_id     team_id         Team  player_id             Player  period  \\\n",
       "0  21700031  1610612759  San Antonio     200746  LaMarcus Aldridge       2   \n",
       "1  21700031  1610612759  San Antonio     200746  LaMarcus Aldridge       2   \n",
       "2  21700031  1610612759  San Antonio     200746  LaMarcus Aldridge       2   \n",
       "3  21700031  1610612759  San Antonio     200746  LaMarcus Aldridge       3   \n",
       "4  21700046  1610612759  San Antonio       1938      Manu Ginobili       1   \n",
       "\n",
       "   gc_time  X_loc  Y_loc  three  made  fouled  assist_opp   Distance  \\\n",
       "0   416.40 -17.68   6.22      1     0       0           1  24.860678   \n",
       "1   226.08 -39.82  -0.22      0     0       0           1   1.942498   \n",
       "2   181.88 -28.46   9.57      0     1       0           1  16.377088   \n",
       "3   573.04 -40.36  13.95      0     0       0           0  14.019080   \n",
       "4   203.64 -19.51 -10.09      1     1       0           1  24.421828   \n",
       "\n",
       "       angle  rightside  \n",
       "0  14.489010          0  \n",
       "1   6.503056          1  \n",
       "2  35.757294          0  \n",
       "3  84.309740          0  \n",
       "4  24.403180          1  "
      ]
     },
     "execution_count": 15,
     "metadata": {},
     "output_type": "execute_result"
    }
   ],
   "source": [
    "data.head()"
   ]
  },
  {
   "cell_type": "code",
   "execution_count": 16,
   "metadata": {
    "collapsed": true
   },
   "outputs": [],
   "source": [
    "data = data.drop(data[(data.three == 0) & (data.Distance > 40.0)].index)"
   ]
  },
  {
   "cell_type": "code",
   "execution_count": 17,
   "metadata": {
    "collapsed": true
   },
   "outputs": [],
   "source": [
    "data.to_csv(\"r_data.csv\")"
   ]
  },
  {
   "cell_type": "markdown",
   "metadata": {},
   "source": [
    "Subset Data For Made Shots"
   ]
  },
  {
   "cell_type": "code",
   "execution_count": 18,
   "metadata": {
    "collapsed": true
   },
   "outputs": [],
   "source": [
    "data_made = data[data['made'] == 1]"
   ]
  },
  {
   "cell_type": "markdown",
   "metadata": {},
   "source": [
    "Come back to this graph"
   ]
  },
  {
   "cell_type": "code",
   "execution_count": 19,
   "metadata": {},
   "outputs": [
    {
     "data": {
      "image/png": "[encoded data removed]",
      "text/plain": [
       "<matplotlib.figure.Figure at 0x11805e2b0>"
      ]
     },
     "metadata": {},
     "output_type": "display_data"
    }
   ],
   "source": [
    "colors = np.where(data_made['three'] == 1,'y','k')\n",
    "plt.scatter(data['X_loc'], data['Y_loc'], s = 0.5, alpha= 0.6, c = colors)\n",
    "plt.show()"
   ]
  },
  {
   "cell_type": "markdown",
   "metadata": {},
   "source": [
    "EDA Visualizataions"
   ]
  },
  {
   "cell_type": "code",
   "execution_count": null,
   "metadata": {},
   "outputs": [],
   "source": [
    "colors = np.where(data['three'] == 1,'y','k')\n",
    "plt.scatter(data['X_loc'], data['Y_loc'], s = 0.5, alpha= 0.6, c = colors)\n",
    "plt.show()"
   ]
  },
  {
   "cell_type": "markdown",
   "metadata": {},
   "source": [
    "Drop the miss classified shots --> Flip the X\n",
    "\n",
    "Look at it for Made Shots"
   ]
  },
  {
   "cell_type": "code",
   "execution_count": null,
   "metadata": {},
   "outputs": [],
   "source": [
    "data.shape"
   ]
  },
  {
   "cell_type": "code",
   "execution_count": null,
   "metadata": {},
   "outputs": [],
   "source": [
    "colors = np.where(data['three'] == 1,'y','r')\n",
    "plt.scatter(data['X_loc'], data['Y_loc'], s = 0.5, alpha= 0.6, c = colors)\n",
    "plt.show()"
   ]
  },
  {
   "cell_type": "code",
   "execution_count": null,
   "metadata": {},
   "outputs": [],
   "source": [
    "import numpy as np\n",
    "import numpy.random\n",
    "import matplotlib.pyplot as plt\n",
    "\n",
    "\n",
    "heatmap, xedges, yedges = np.histogram2d(data['X_loc'], data['Y_loc'], bins=250)\n",
    "extent = [xedges[0], xedges[-1], yedges[0], yedges[-1]]\n",
    "\n",
    "plt.clf()\n",
    "plt.imshow(heatmap.T, extent=extent, origin='lower')\n",
    "plt.show()"
   ]
  },
  {
   "cell_type": "markdown",
   "metadata": {},
   "source": [
    "Stacked Histogram or Bar Plot where the groups are if it is\n",
    "Or put 2 histrograms on the same plot"
   ]
  },
  {
   "cell_type": "code",
   "execution_count": null,
   "metadata": {},
   "outputs": [],
   "source": [
    "plt.hist(data['Distance'], bins = 25)\n",
    "plt.show()"
   ]
  },
  {
   "cell_type": "markdown",
   "metadata": {},
   "source": [
    "Build Histogram that shows both"
   ]
  },
  {
   "cell_type": "code",
   "execution_count": null,
   "metadata": {},
   "outputs": [],
   "source": [
    "plt.hist(data[data['three'] == 1]['Distance'], bins = 10)\n",
    "plt.hist(data[data['three'] == 0]['Distance'], bins = 10)\n",
    "\n",
    "plt.xlim(0,50)\n",
    "plt.title(\"Histogram of Shot Distance for 2017 and 2018 NBA\")\n",
    "plt.xlabel(\"Feet\")\n",
    "plt.ylabel(\"Frequency\")\n",
    "plt.show()"
   ]
  },
  {
   "cell_type": "code",
   "execution_count": null,
   "metadata": {
    "collapsed": true
   },
   "outputs": [],
   "source": [
    "miss_pct = data['made'].value_counts()[0]/(data['made'].value_counts()[1] + data['made'].value_counts()[0])\n",
    "made_pct = data['made'].value_counts()[1]/(data['made'].value_counts()[1] + data['made'].value_counts()[0])"
   ]
  },
  {
   "cell_type": "code",
   "execution_count": null,
   "metadata": {},
   "outputs": [],
   "source": [
    "miss_pct"
   ]
  },
  {
   "cell_type": "code",
   "execution_count": null,
   "metadata": {},
   "outputs": [],
   "source": [
    "made_pct"
   ]
  },
  {
   "cell_type": "code",
   "execution_count": null,
   "metadata": {
    "collapsed": true
   },
   "outputs": [],
   "source": [
    "three_point_data = data[data['three'] == 1]"
   ]
  },
  {
   "cell_type": "code",
   "execution_count": null,
   "metadata": {
    "collapsed": true
   },
   "outputs": [],
   "source": [
    "three_point_miss_pct = three_point_data['made'].value_counts()[0]/(three_point_data['made'].value_counts()[1] + three_point_data['made'].value_counts()[0])\n",
    "three_point_made_pct = three_point_data['made'].value_counts()[1]/(three_point_data['made'].value_counts()[1] + three_point_data['made'].value_counts()[0])"
   ]
  },
  {
   "cell_type": "code",
   "execution_count": null,
   "metadata": {},
   "outputs": [],
   "source": [
    "three_point_made_pct"
   ]
  },
  {
   "cell_type": "code",
   "execution_count": null,
   "metadata": {},
   "outputs": [],
   "source": [
    "three_point_miss_pct"
   ]
  },
  {
   "cell_type": "markdown",
   "metadata": {},
   "source": [
    "Mixed effects model --> will be the best way to handle all the different player ID's\\\n",
    "fixed effect are overfit --> don't care for inferences\n",
    "random effect will weight everyones observed shots vs. individual shots\n",
    "effect for random slopes and intercepts\n",
    "careful in building those models --> cross validate to find best hyper parameters\n",
    "--> consider collapsing players based on # of shots or 3 -points, average distance of shot, etc.\n",
    "--> angle of shot\n",
    "--> Do parametric and non parametric\n",
    "--> Visualize the results of that on the court; predicted probability of shot in kind of like a heat map, and do that for individual players.\n",
    "--> look to see what team they are; look at game clock of all of those shots to make sure\n",
    "--> ones that aren't in the last few seconds of the quarter that are beyond half court"
   ]
  },
  {
   "cell_type": "markdown",
   "metadata": {},
   "source": [
    "Baseline Logistic Regression"
   ]
  },
  {
   "cell_type": "code",
   "execution_count": null,
   "metadata": {
    "collapsed": true
   },
   "outputs": [],
   "source": [
    "model1 = LogisticRegression()"
   ]
  },
  {
   "cell_type": "code",
   "execution_count": null,
   "metadata": {
    "collapsed": true
   },
   "outputs": [],
   "source": [
    "cols_to_drop = ['game_id', 'team_id', 'Team', 'Player']\n",
    "reg_data = data.drop(cols_to_drop, axis = 1)\n",
    "\n"
   ]
  },
  {
   "cell_type": "markdown",
   "metadata": {},
   "source": [
    "Catch and shoot, defense, wide open"
   ]
  },
  {
   "cell_type": "code",
   "execution_count": null,
   "metadata": {},
   "outputs": [],
   "source": [
    "reg_data.describe()"
   ]
  },
  {
   "cell_type": "code",
   "execution_count": null,
   "metadata": {
    "collapsed": true
   },
   "outputs": [],
   "source": [
    "data_train, data_test = train_test_split(reg_data, random_state = 42, test_size = 0.2)"
   ]
  },
  {
   "cell_type": "code",
   "execution_count": null,
   "metadata": {},
   "outputs": [],
   "source": [
    "print(data_train.columns)"
   ]
  },
  {
   "cell_type": "code",
   "execution_count": null,
   "metadata": {
    "collapsed": true
   },
   "outputs": [],
   "source": [
    "x_train = data_train.drop(['made'], axis = 1)\n",
    "y_train = data_train['made']\n",
    "\n",
    "x_test = data_test.drop(['made'], axis = 1)\n",
    "y_test = data_test['made']"
   ]
  },
  {
   "cell_type": "code",
   "execution_count": null,
   "metadata": {},
   "outputs": [],
   "source": [
    "model1.fit(x_train, y_train)"
   ]
  },
  {
   "cell_type": "code",
   "execution_count": null,
   "metadata": {
    "collapsed": true
   },
   "outputs": [],
   "source": [
    "y_pred = model1.predict(x_test)"
   ]
  },
  {
   "cell_type": "code",
   "execution_count": null,
   "metadata": {
    "collapsed": true
   },
   "outputs": [],
   "source": [
    "y_pred_proba = model1.predict_proba(x_test)"
   ]
  },
  {
   "cell_type": "code",
   "execution_count": null,
   "metadata": {
    "collapsed": true
   },
   "outputs": [],
   "source": [
    "auc_score = metrics.roc_auc_score(y_test, y_pred)"
   ]
  },
  {
   "cell_type": "code",
   "execution_count": null,
   "metadata": {},
   "outputs": [],
   "source": [
    "auc_score"
   ]
  },
  {
   "cell_type": "code",
   "execution_count": null,
   "metadata": {},
   "outputs": [],
   "source": [
    "from sklearn.metrics import accuracy_score\n",
    "accuracy_score(y_test, y_pred)"
   ]
  },
  {
   "cell_type": "code",
   "execution_count": null,
   "metadata": {},
   "outputs": [],
   "source": [
    "probs = model1.predict_proba(x_test)\n",
    "preds = probs[:,1]\n",
    "fpr, tpr, threshold = metrics.roc_curve(y_test, preds)\n",
    "roc_auc = metrics.auc(fpr, tpr)\n",
    "\n",
    "# method I: plt\n",
    "import matplotlib.pyplot as plt\n",
    "plt.title('Receiver Operating Characteristic')\n",
    "plt.plot(fpr, tpr, 'b', label = 'AUC = %0.2f' % roc_auc)\n",
    "plt.legend(loc = 'lower right')\n",
    "plt.plot([0, 1], [0, 1],'r--')\n",
    "plt.xlim([0, 1])\n",
    "plt.ylim([0, 1])\n",
    "plt.ylabel('True Positive Rate')\n",
    "plt.xlabel('False Positive Rate')\n",
    "plt.show()\n"
   ]
  },
  {
   "cell_type": "markdown",
   "metadata": {},
   "source": [
    "How to shrink this, pull 10% of data and then optimize within that set --> And then move it around when you can"
   ]
  },
  {
   "cell_type": "code",
   "execution_count": null,
   "metadata": {
    "collapsed": true
   },
   "outputs": [],
   "source": [
    "x_train_ind = list(x_train.index.values)"
   ]
  },
  {
   "cell_type": "code",
   "execution_count": null,
   "metadata": {
    "collapsed": true
   },
   "outputs": [],
   "source": [
    "import random\n",
    "sample_size = round(len(x_train) * 0.1)\n",
    "\n",
    "x_train_sub_ind= random.sample(x_train_ind, sample_size)"
   ]
  },
  {
   "cell_type": "code",
   "execution_count": null,
   "metadata": {
    "collapsed": true
   },
   "outputs": [],
   "source": [
    "x_train_sub = x_train.loc[x_train_sub_ind]"
   ]
  },
  {
   "cell_type": "code",
   "execution_count": null,
   "metadata": {
    "collapsed": true
   },
   "outputs": [],
   "source": [
    "y_train_sub = y_train.loc[x_train_sub_ind]"
   ]
  },
  {
   "cell_type": "markdown",
   "metadata": {},
   "source": [
    "Hard to get player specific --> Try to one hot encode it --> Probably will overfit to those who take a few shots"
   ]
  },
  {
   "cell_type": "markdown",
   "metadata": {},
   "source": [
    "Set n estimators to 100"
   ]
  },
  {
   "cell_type": "markdown",
   "metadata": {},
   "source": [
    "n_estimators = number of trees in the foreset\n",
    "max_features = max number of features considered for splitting a node\n",
    "max_depth = max number of levels in each decision tree\n",
    "min_samples_split = min number of data points placed in a node before the node is split\n",
    "min_samples_leaf = min number of data points allowed in a leaf node\n",
    "bootstrap = method for sampling data points (with or without replacement)"
   ]
  },
  {
   "cell_type": "code",
   "execution_count": null,
   "metadata": {
    "collapsed": true
   },
   "outputs": [],
   "source": [
    "from sklearn.model_selection import RandomizedSearchCV\n",
    "# Number of features to consider at every split\n",
    "max_features = ['auto', 'sqrt']\n",
    "# Maximum number of levels in tree\n",
    "max_depth = [int(x) for x in np.linspace(1, 40, num = 20)]\n",
    "max_depth.append(None)\n",
    "# Minimum number of samples required to split a node\n",
    "min_samples_split = [2, 5, 10]\n",
    "# Minimum number of samples required at each leaf node\n",
    "min_samples_leaf = [1, 2, 4]\n",
    "# Create the random grid\n",
    "random_grid = {'max_features': max_features,\n",
    "               'max_depth': max_depth,\n",
    "               'min_samples_split': min_samples_split,\n",
    "               'min_samples_leaf': min_samples_leaf}"
   ]
  },
  {
   "cell_type": "code",
   "execution_count": null,
   "metadata": {},
   "outputs": [],
   "source": [
    "print(random_grid)"
   ]
  },
  {
   "cell_type": "code",
   "execution_count": null,
   "metadata": {},
   "outputs": [],
   "source": [
    "# Use the random grid to search for best hyperparameters\n",
    "# First create the base model to tune\n",
    "rf = RandomForestClassifier()\n",
    "# Random search of parameters, using 3 fold cross validation, \n",
    "# search across 100 different combinations, and use all available cores\n",
    "rf_random = RandomizedSearchCV(estimator = rf, param_distributions = random_grid, n_iter = 100, cv = 3, verbose=2, random_state=42, n_jobs = -1)\n",
    "# Fit the random search model\n",
    "rf_random.fit(x_train_sub, y_train_sub)"
   ]
  },
  {
   "cell_type": "code",
   "execution_count": null,
   "metadata": {
    "scrolled": true
   },
   "outputs": [],
   "source": [
    "rf_random.best_params_"
   ]
  },
  {
   "cell_type": "code",
   "execution_count": null,
   "metadata": {
    "collapsed": true
   },
   "outputs": [],
   "source": [
    "# Create the parameter grid based on the results of random search \n",
    "param_grid = {\n",
    "    'bootstrap': [True],\n",
    "    'max_depth': [2, 5, 8, 10],\n",
    "    'min_samples_leaf': [3, 4, 5],\n",
    "    'min_samples_split': [2, 4, 6],\n",
    "}\n",
    "# Create a based model\n",
    "rf = RandomForestClassifier()\n",
    "# Instantiate the grid search model\n",
    "grid_search = GridSearchCV(estimator = rf, param_grid = param_grid, \n",
    "                          cv = 3, n_jobs = -1, verbose = 2)"
   ]
  },
  {
   "cell_type": "code",
   "execution_count": null,
   "metadata": {},
   "outputs": [],
   "source": [
    "grid_search.fit(x_train_sub, y_train_sub)"
   ]
  },
  {
   "cell_type": "code",
   "execution_count": null,
   "metadata": {},
   "outputs": [],
   "source": [
    "grid_search.best_params_"
   ]
  },
  {
   "cell_type": "code",
   "execution_count": null,
   "metadata": {
    "collapsed": true
   },
   "outputs": [],
   "source": [
    "rf = RandomForestClassifier(bootstrap=True, max_depth=5, min_samples_leaf=5, min_samples_split = 4)"
   ]
  },
  {
   "cell_type": "code",
   "execution_count": null,
   "metadata": {},
   "outputs": [],
   "source": [
    "rf.fit(x_train, y_train)"
   ]
  },
  {
   "cell_type": "markdown",
   "metadata": {},
   "source": []
  },
  {
   "cell_type": "code",
   "execution_count": null,
   "metadata": {
    "collapsed": true
   },
   "outputs": [],
   "source": [
    "prediction_probs = rf.predict_proba(x_test)"
   ]
  },
  {
   "cell_type": "code",
   "execution_count": null,
   "metadata": {
    "collapsed": true
   },
   "outputs": [],
   "source": [
    "rf_predictions = rf.predict(x_test)"
   ]
  },
  {
   "cell_type": "code",
   "execution_count": null,
   "metadata": {},
   "outputs": [],
   "source": [
    "accuracy_score(y_test, rf_predictions)"
   ]
  },
  {
   "cell_type": "code",
   "execution_count": null,
   "metadata": {},
   "outputs": [],
   "source": [
    "prediction_probs"
   ]
  },
  {
   "cell_type": "code",
   "execution_count": null,
   "metadata": {
    "collapsed": true
   },
   "outputs": [],
   "source": [
    "pred_1 = prediction_probs[:,1]"
   ]
  },
  {
   "cell_type": "code",
   "execution_count": null,
   "metadata": {},
   "outputs": [],
   "source": [
    "preds = prediction_probs[:,1]\n",
    "fpr, tpr, threshold = metrics.roc_curve(y_test, preds)\n",
    "roc_auc = metrics.auc(fpr, tpr)\n",
    "\n",
    "import matplotlib.pyplot as plt\n",
    "plt.title('Receiver Operating Characteristic')\n",
    "plt.plot(fpr, tpr, 'b', label = 'AUC = %0.2f' % roc_auc)\n",
    "plt.legend(loc = 'lower right')\n",
    "plt.plot([0, 1], [0, 1],'r--')\n",
    "plt.xlim([0, 1])\n",
    "plt.ylim([0, 1])\n",
    "plt.ylabel('True Positive Rate')\n",
    "plt.xlabel('False Positive Rate')\n",
    "plt.show()"
   ]
  },
  {
   "cell_type": "markdown",
   "metadata": {},
   "source": [
    "Heatmap of Predicted probabilities"
   ]
  },
  {
   "cell_type": "code",
   "execution_count": null,
   "metadata": {
    "collapsed": true
   },
   "outputs": [],
   "source": [
    "x_test['Preds'] = pred_1"
   ]
  },
  {
   "cell_type": "code",
   "execution_count": null,
   "metadata": {},
   "outputs": [],
   "source": [
    "x_test.head()"
   ]
  },
  {
   "cell_type": "code",
   "execution_count": null,
   "metadata": {},
   "outputs": [],
   "source": [
    "plt.scatter(x_test['X_loc'], x_test['Y_loc'], c = x_test['Preds'], alpha = 0.3)\n",
    "plt.show()"
   ]
  },
  {
   "cell_type": "code",
   "execution_count": null,
   "metadata": {},
   "outputs": [],
   "source": [
    "# import pandas as pd\n",
    "# import matplotlib.pyplot as plt\n",
    "# import seaborn as sns\n",
    "# X = x_test['X_loc']\n",
    "# Y = x_test['Y_loc']\n",
    "# Z = x_test['Preds']\n",
    "# data = pd.DataFrame({'X': X, 'Y': Y, 'Z': Z})\n",
    "# data_pivoted = data.pivot(\"X\", \"Y\", \"Z\")\n",
    "# ax = sns.heatmap(data_pivoted)\n",
    "# plt.show()\n",
    "\n",
    "plt.hexbin(x_test['X_loc'], x_test['Y_loc'], C=x_test['Preds'], gridsize=20, cmap=\"YlOrBr\")\n",
    "plt.colorbar()\n",
    "plt.show()\n",
    "#h2 = ax2.hexbin(df.v1, df.v2, C=df.yy, gridsize=10, cmap=\"copper\")"
   ]
  },
  {
   "cell_type": "markdown",
   "metadata": {},
   "source": [
    "Lets look at three point line"
   ]
  },
  {
   "cell_type": "code",
   "execution_count": null,
   "metadata": {},
   "outputs": [],
   "source": [
    "x_test.head()"
   ]
  },
  {
   "cell_type": "code",
   "execution_count": null,
   "metadata": {
    "collapsed": true
   },
   "outputs": [],
   "source": [
    "three_point = x_test[(x_test['Distance'] > 21) & (x_test['Distance'] < 24)]"
   ]
  },
  {
   "cell_type": "code",
   "execution_count": null,
   "metadata": {},
   "outputs": [],
   "source": [
    "three_point.head()"
   ]
  },
  {
   "cell_type": "code",
   "execution_count": null,
   "metadata": {},
   "outputs": [],
   "source": [
    "plt.hexbin(three_point['X_loc'], three_point['Y_loc'], C=three_point['Preds'], gridsize=25, cmap=\"YlOrBr\")\n",
    "plt.colorbar()\n",
    "plt.show()"
   ]
  },
  {
   "cell_type": "markdown",
   "metadata": {},
   "source": [
    "Predictions"
   ]
  },
  {
   "cell_type": "code",
   "execution_count": null,
   "metadata": {},
   "outputs": [],
   "source": [
    "x_test[(x_test['Distance'] > 20) & (x_test['Distance'] < 21)]['Preds'].mean()"
   ]
  },
  {
   "cell_type": "code",
   "execution_count": null,
   "metadata": {},
   "outputs": [],
   "source": [
    "x_test[(x_test['Distance'] > 21) & (x_test['Distance'] < 22)]['Preds'].mean()"
   ]
  },
  {
   "cell_type": "code",
   "execution_count": null,
   "metadata": {},
   "outputs": [],
   "source": [
    "x_test[(x_test['Distance'] > 22) & (x_test['Distance'] < 23)]['Preds'].mean()"
   ]
  },
  {
   "cell_type": "code",
   "execution_count": null,
   "metadata": {},
   "outputs": [],
   "source": [
    "x_test[(x_test['Distance'] > 23) & (x_test['Distance'] < 24)]['Preds'].mean()"
   ]
  },
  {
   "cell_type": "markdown",
   "metadata": {},
   "source": [
    "BIG Difference between 20 and 21"
   ]
  },
  {
   "cell_type": "code",
   "execution_count": null,
   "metadata": {
    "collapsed": true
   },
   "outputs": [],
   "source": [
    "two_point = x_test[(x_test['Distance'] > 21) & (x_test['Distance'] < 23.76) & (x_test['three'] == 0)]"
   ]
  },
  {
   "cell_type": "code",
   "execution_count": null,
   "metadata": {},
   "outputs": [],
   "source": [
    "two_mean = two_point['Preds'].mean()\n",
    "print(two_mean)"
   ]
  },
  {
   "cell_type": "code",
   "execution_count": null,
   "metadata": {
    "collapsed": true
   },
   "outputs": [],
   "source": [
    "three_point = x_test[(x_test['Distance'] > 22) & (x_test['Distance'] < 25) & (x_test['three'] == 1)]"
   ]
  },
  {
   "cell_type": "code",
   "execution_count": null,
   "metadata": {},
   "outputs": [],
   "source": [
    "three_mean = three_point['Preds'].mean()\n",
    "print(three_mean)"
   ]
  },
  {
   "cell_type": "markdown",
   "metadata": {},
   "source": [
    "Real statistics"
   ]
  },
  {
   "cell_type": "code",
   "execution_count": null,
   "metadata": {
    "collapsed": true
   },
   "outputs": [],
   "source": [
    "two_point_real = data[(data['Distance'] > 21) & (data['Distance'] < 23.76) & (data['three'] == 0)]\n",
    "miss_pct_two_point_real = two_point_real['made'].value_counts()[0]/(two_point_real['made'].value_counts()[1] + two_point_real['made'].value_counts()[0])\n",
    "made_pct_two_point_real = two_point_real['made'].value_counts()[1]/(two_point_real['made'].value_counts()[1] + two_point_real['made'].value_counts()[0])\n"
   ]
  },
  {
   "cell_type": "code",
   "execution_count": null,
   "metadata": {},
   "outputs": [],
   "source": [
    "three_point_real = data[(data['Distance'] > 22) & (data['Distance'] < 25) & (data['three'] == 1)]\n",
    "miss_pct_three_point_real = three_point_real['made'].value_counts()[0]/(three_point_real['made'].value_counts()[1] + three_point_real['made'].value_counts()[0])\n",
    "made_pct_three_point_real = three_point_real['made'].value_counts()[1]/(three_point_real['made'].value_counts()[1] + three_point_real['made'].value_counts()[0])\n",
    "print('Three Miss: ', miss_pct_three_point_real)\n",
    "print('Three Made: ', made_pct_three_point_real)\n",
    "print('Long Two Miss: ', miss_pct_two_point_real)\n",
    "print('Long Two Made: ', made_pct_two_point_real)"
   ]
  },
  {
   "cell_type": "markdown",
   "metadata": {},
   "source": [
    "Subset data to just these shots, and just fit a parametric model\n",
    "Confunded are better shooters are shooting the 3's, and worse shooters shooting the 2's\n",
    "Take all shots between 20 and 24 feet, and do a  mixed effects with player id as random effect\n",
    "\n"
   ]
  },
  {
   "cell_type": "markdown",
   "metadata": {},
   "source": [
    "## Random forest Interpretation"
   ]
  },
  {
   "cell_type": "markdown",
   "metadata": {},
   "source": [
    "Does not need to be as \n",
    "Overfit model.....to specific condiitons...need to tune hyper paramters in better way!"
   ]
  },
  {
   "cell_type": "code",
   "execution_count": null,
   "metadata": {
    "collapsed": true
   },
   "outputs": [],
   "source": [
    "# rework x_train\n",
    "x_train_int = x_train[['period', 'gc_time', 'three', 'fouled', 'assist_opp', 'Distance', 'angle', 'rightside']]\n"
   ]
  },
  {
   "cell_type": "code",
   "execution_count": null,
   "metadata": {},
   "outputs": [],
   "source": [
    "x_train_int.head()"
   ]
  },
  {
   "cell_type": "markdown",
   "metadata": {},
   "source": [
    "For angle on catch and shoot threes"
   ]
  },
  {
   "cell_type": "code",
   "execution_count": null,
   "metadata": {},
   "outputs": [],
   "source": [
    "len(angles)"
   ]
  },
  {
   "cell_type": "code",
   "execution_count": null,
   "metadata": {},
   "outputs": [],
   "source": [
    "x_test[x_test['three'] == 1]['Distance'].median()"
   ]
  },
  {
   "cell_type": "code",
   "execution_count": null,
   "metadata": {
    "collapsed": true
   },
   "outputs": [],
   "source": [
    "n_points = 1000\n",
    "iterator = n_points/100"
   ]
  },
  {
   "cell_type": "code",
   "execution_count": null,
   "metadata": {
    "collapsed": true
   },
   "outputs": [],
   "source": [
    "import numpy as np\n",
    "angles = np.arange(0, 100, 0.1).tolist()"
   ]
  },
  {
   "cell_type": "code",
   "execution_count": null,
   "metadata": {
    "collapsed": true
   },
   "outputs": [],
   "source": [
    "angle_frame = pd.DataFrame()\n",
    "angle_frame['period'] = [x_test['period'].median()] * len(angles)\n",
    "angle_frame['gc_time'] = [x_test['gc_time'].median()] * len(angles)\n",
    "angle_frame['three'] = [0] * len(angles)\n",
    "angle_frame['fouled'] = [0] * len(angles)\n",
    "angle_frame['assist_opp'] = [1] * len(angles)\n",
    "#angle_frame['Distance'] = [x_test[x_test['three'] == 1]['Distance'].median()]*len(angles)\n",
    "angle_frame['rightside'] =  [1] * len(angles)\n",
    "angle_frame['angle'] =  angles\n",
    "angle_frame['Distance'] = [8] * len(angles)\n",
    "\n",
    "\n",
    "\n",
    "\n",
    "\n",
    "    \n",
    "        \n",
    "        "
   ]
  },
  {
   "cell_type": "code",
   "execution_count": null,
   "metadata": {},
   "outputs": [],
   "source": [
    "angle_frame.head()"
   ]
  },
  {
   "cell_type": "code",
   "execution_count": null,
   "metadata": {},
   "outputs": [],
   "source": [
    "preds_angle = rf.predict_proba(angle_frame)"
   ]
  },
  {
   "cell_type": "code",
   "execution_count": null,
   "metadata": {
    "collapsed": true
   },
   "outputs": [],
   "source": [
    "angle_frame['predictions'] = preds_angle[:,1]"
   ]
  },
  {
   "cell_type": "code",
   "execution_count": null,
   "metadata": {
    "collapsed": true
   },
   "outputs": [],
   "source": [
    "plt.plot(angle_frame['angle'], angle_frame['predictions'])\n",
    "plt.show()"
   ]
  },
  {
   "cell_type": "markdown",
   "metadata": {},
   "source": [
    "Score it with AUC, and other ROC curve methods on the best way. Change the threshold, and see what possible \n",
    "\n",
    "Look at predicted probability at each spot on the court -->  Prediction at each grid location --> Would be like the heat map I made above but with predicted probabilities"
   ]
  },
  {
   "cell_type": "markdown",
   "metadata": {},
   "source": [
    "If I have time --> neural network"
   ]
  },
  {
   "cell_type": "markdown",
   "metadata": {},
   "source": [
    "Plug in median --> and then see how they vary as they increase --> X and Y location"
   ]
  },
  {
   "cell_type": "markdown",
   "metadata": {},
   "source": [
    "See if anything is different for assist opportunity, quarter, Like what I did for march madness model"
   ]
  },
  {
   "cell_type": "markdown",
   "metadata": {},
   "source": [
    "Predicted Probalities --> IS there a jump at the three point line...look at shots between distance 21-24"
   ]
  },
  {
   "cell_type": "markdown",
   "metadata": {},
   "source": [
    "Distance is more important than angle...fiddle around with what to include in the model"
   ]
  },
  {
   "cell_type": "markdown",
   "metadata": {},
   "source": [
    "Build model without player id, and see if someone does better than they should?"
   ]
  },
  {
   "cell_type": "markdown",
   "metadata": {},
   "source": [
    "Add in distance into the mixed effects model"
   ]
  },
  {
   "cell_type": "markdown",
   "metadata": {},
   "source": []
  }
 ],
 "metadata": {
  "kernelspec": {
   "display_name": "Python 3",
   "language": "python",
   "name": "python3"
  },
  "language_info": {
   "codemirror_mode": {
    "name": "ipython",
    "version": 3
   },
   "file_extension": ".py",
   "mimetype": "text/x-python",
   "name": "python",
   "nbconvert_exporter": "python",
   "pygments_lexer": "ipython3",
   "version": "3.6.1"
  }
 },
 "nbformat": 4,
 "nbformat_minor": 2
}
